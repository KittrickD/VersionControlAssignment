{
 "cells": [
  {
   "cell_type": "code",
   "execution_count": 5,
   "metadata": {},
   "outputs": [
    {
     "name": "stdin",
     "output_type": "stream",
     "text": [
      "Insert your first name! kittrick\n",
      "insert your last name danzeisen\n",
      "Insert an integer! 453\n"
     ]
    },
    {
     "name": "stdout",
     "output_type": "stream",
     "text": [
      "The here is your created username!: kdanzei453\n",
      "Here is your created password!: Qx@N*zaabnR\n"
     ]
    }
   ],
   "source": [
    "from random import randint\n",
    "name1 = input('Insert your first name!') # assigns name to the user entered input\n",
    "name2 = input('insert your last name')\n",
    "integer = int(input('Insert an integer!')) # assigns integer to the user entered input\n",
    "\n",
    "name1 = name1[:randint(1,len(name1)-1)].lower()\n",
    "name2 = name2[:randint(1,len(name2)-1)].lower()\n",
    "\n",
    "username = name1 + name2 + str(integer) # assigns the username variable to the name plus integer variable \n",
    "\n",
    "chrs = 'ABCDEFGHIJKLMNOPQRSTUVQXYZabcdefghijklmnopqrstuvqxyz!@#$%&?<>+-*^\\/'\n",
    "\n",
    "password = ''\n",
    "for i in range(randint(8,12)):\n",
    "    password += chrs[randint(0,len(chrs) - 1)]\n",
    "\n",
    "\n",
    "print(\"The here is your created username!:\", username)\n",
    "print('Here is your created password!:', password)"
   ]
  },
  {
   "cell_type": "code",
   "execution_count": null,
   "metadata": {},
   "outputs": [],
   "source": []
  }
 ],
 "metadata": {
  "kernelspec": {
   "display_name": "Python 3",
   "language": "python",
   "name": "python3"
  },
  "language_info": {
   "codemirror_mode": {
    "name": "ipython",
    "version": 3
   },
   "file_extension": ".py",
   "mimetype": "text/x-python",
   "name": "python",
   "nbconvert_exporter": "python",
   "pygments_lexer": "ipython3",
   "version": "3.8.3"
  }
 },
 "nbformat": 4,
 "nbformat_minor": 4
}
